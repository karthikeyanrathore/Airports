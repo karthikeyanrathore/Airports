{
 "cells": [
  {
   "cell_type": "code",
   "execution_count": 19,
   "metadata": {},
   "outputs": [
    {
     "name": "stdout",
     "output_type": "stream",
     "text": [
      "(1000, 2)\n"
     ]
    },
    {
     "data": {
      "text/html": [
       "<div>\n",
       "<style scoped>\n",
       "    .dataframe tbody tr th:only-of-type {\n",
       "        vertical-align: middle;\n",
       "    }\n",
       "\n",
       "    .dataframe tbody tr th {\n",
       "        vertical-align: top;\n",
       "    }\n",
       "\n",
       "    .dataframe thead th {\n",
       "        text-align: right;\n",
       "    }\n",
       "</style>\n",
       "<table border=\"1\" class=\"dataframe\">\n",
       "  <thead>\n",
       "    <tr style=\"text-align: right;\">\n",
       "      <th></th>\n",
       "      <th>origin</th>\n",
       "      <th>destination</th>\n",
       "    </tr>\n",
       "    <tr>\n",
       "      <th>day</th>\n",
       "      <th></th>\n",
       "      <th></th>\n",
       "    </tr>\n",
       "  </thead>\n",
       "  <tbody>\n",
       "    <tr>\n",
       "      <th>2019-01-27 00:00:00+00:00</th>\n",
       "      <td>NZAA</td>\n",
       "      <td>NZWR</td>\n",
       "    </tr>\n",
       "    <tr>\n",
       "      <th>2019-01-24 00:00:00+00:00</th>\n",
       "      <td>YSNW</td>\n",
       "      <td>YSNW</td>\n",
       "    </tr>\n",
       "    <tr>\n",
       "      <th>2019-01-21 00:00:00+00:00</th>\n",
       "      <td>KSDL</td>\n",
       "      <td>KHND</td>\n",
       "    </tr>\n",
       "    <tr>\n",
       "      <th>2019-01-14 00:00:00+00:00</th>\n",
       "      <td>KADS</td>\n",
       "      <td>KIAD</td>\n",
       "    </tr>\n",
       "    <tr>\n",
       "      <th>2019-01-14 00:00:00+00:00</th>\n",
       "      <td>OTBH</td>\n",
       "      <td>OTBH</td>\n",
       "    </tr>\n",
       "    <tr>\n",
       "      <th>2019-01-05 00:00:00+00:00</th>\n",
       "      <td>KVNY</td>\n",
       "      <td>KU42</td>\n",
       "    </tr>\n",
       "    <tr>\n",
       "      <th>2019-01-25 00:00:00+00:00</th>\n",
       "      <td>KGRR</td>\n",
       "      <td>8MI4</td>\n",
       "    </tr>\n",
       "    <tr>\n",
       "      <th>2019-01-08 00:00:00+00:00</th>\n",
       "      <td>LFLL</td>\n",
       "      <td>LFPG</td>\n",
       "    </tr>\n",
       "    <tr>\n",
       "      <th>2019-01-11 00:00:00+00:00</th>\n",
       "      <td>KADS</td>\n",
       "      <td>77TS</td>\n",
       "    </tr>\n",
       "    <tr>\n",
       "      <th>2019-01-25 00:00:00+00:00</th>\n",
       "      <td>LBWN</td>\n",
       "      <td>LSZH</td>\n",
       "    </tr>\n",
       "  </tbody>\n",
       "</table>\n",
       "</div>"
      ],
      "text/plain": [
       "                          origin destination\n",
       "day                                         \n",
       "2019-01-27 00:00:00+00:00   NZAA        NZWR\n",
       "2019-01-24 00:00:00+00:00   YSNW        YSNW\n",
       "2019-01-21 00:00:00+00:00   KSDL        KHND\n",
       "2019-01-14 00:00:00+00:00   KADS        KIAD\n",
       "2019-01-14 00:00:00+00:00   OTBH        OTBH\n",
       "2019-01-05 00:00:00+00:00   KVNY        KU42\n",
       "2019-01-25 00:00:00+00:00   KGRR        8MI4\n",
       "2019-01-08 00:00:00+00:00   LFLL        LFPG\n",
       "2019-01-11 00:00:00+00:00   KADS        77TS\n",
       "2019-01-25 00:00:00+00:00   LBWN        LSZH"
      ]
     },
     "execution_count": 19,
     "metadata": {},
     "output_type": "execute_result"
    }
   ],
   "source": [
    "import pandas as pd\n",
    "df = pd.read_csv(\"flights_sample.csv\" , index_col =0 )\n",
    "print(df.shape)\n",
    "df.head(10)"
   ]
  },
  {
   "cell_type": "code",
   "execution_count": 10,
   "metadata": {},
   "outputs": [
    {
     "name": "stdout",
     "output_type": "stream",
     "text": [
      "day\n",
      "0      NZAA\n",
      "1      YSNW\n",
      "2      KSDL\n",
      "3      KADS\n",
      "4      OTBH\n",
      "       ... \n",
      "995    KHOU\n",
      "996    LFPG\n",
      "997    LFPO\n",
      "998    LTBA\n",
      "999    LIBD\n",
      "Name: origin, Length: 1000, dtype: object\n"
     ]
    }
   ],
   "source": [
    "print(df.columns[0])\n",
    "print(df[\"origin\"])"
   ]
  },
  {
   "cell_type": "code",
   "execution_count": 11,
   "metadata": {},
   "outputs": [],
   "source": [
    "import numpy as np\n",
    "edges = np.unique(np.append(df[\"origin\"] ,df[\"destination\"]))\n",
    "\n",
    "#edges\n",
    "    "
   ]
  },
  {
   "cell_type": "code",
   "execution_count": 22,
   "metadata": {
    "scrolled": true
   },
   "outputs": [
    {
     "name": "stdout",
     "output_type": "stream",
     "text": [
      "(1000, 2)\n"
     ]
    },
    {
     "data": {
      "text/html": [
       "<div>\n",
       "<style scoped>\n",
       "    .dataframe tbody tr th:only-of-type {\n",
       "        vertical-align: middle;\n",
       "    }\n",
       "\n",
       "    .dataframe tbody tr th {\n",
       "        vertical-align: top;\n",
       "    }\n",
       "\n",
       "    .dataframe thead th {\n",
       "        text-align: right;\n",
       "    }\n",
       "</style>\n",
       "<table border=\"1\" class=\"dataframe\">\n",
       "  <thead>\n",
       "    <tr style=\"text-align: right;\">\n",
       "      <th></th>\n",
       "      <th>origin</th>\n",
       "      <th>destination</th>\n",
       "    </tr>\n",
       "    <tr>\n",
       "      <th>day</th>\n",
       "      <th></th>\n",
       "      <th></th>\n",
       "    </tr>\n",
       "  </thead>\n",
       "  <tbody>\n",
       "    <tr>\n",
       "      <th>2019-01-27 00:00:00+00:00</th>\n",
       "      <td>543</td>\n",
       "      <td>550</td>\n",
       "    </tr>\n",
       "    <tr>\n",
       "      <th>2019-01-24 00:00:00+00:00</th>\n",
       "      <td>658</td>\n",
       "      <td>658</td>\n",
       "    </tr>\n",
       "    <tr>\n",
       "      <th>2019-01-21 00:00:00+00:00</th>\n",
       "      <td>412</td>\n",
       "      <td>308</td>\n",
       "    </tr>\n",
       "    <tr>\n",
       "      <th>2019-01-14 00:00:00+00:00</th>\n",
       "      <td>227</td>\n",
       "      <td>316</td>\n",
       "    </tr>\n",
       "    <tr>\n",
       "      <th>2019-01-14 00:00:00+00:00</th>\n",
       "      <td>566</td>\n",
       "      <td>566</td>\n",
       "    </tr>\n",
       "    <tr>\n",
       "      <th>2019-01-05 00:00:00+00:00</th>\n",
       "      <td>442</td>\n",
       "      <td>438</td>\n",
       "    </tr>\n",
       "    <tr>\n",
       "      <th>2019-01-25 00:00:00+00:00</th>\n",
       "      <td>302</td>\n",
       "      <td>60</td>\n",
       "    </tr>\n",
       "    <tr>\n",
       "      <th>2019-01-08 00:00:00+00:00</th>\n",
       "      <td>472</td>\n",
       "      <td>479</td>\n",
       "    </tr>\n",
       "    <tr>\n",
       "      <th>2019-01-11 00:00:00+00:00</th>\n",
       "      <td>227</td>\n",
       "      <td>48</td>\n",
       "    </tr>\n",
       "    <tr>\n",
       "      <th>2019-01-25 00:00:00+00:00</th>\n",
       "      <td>450</td>\n",
       "      <td>522</td>\n",
       "    </tr>\n",
       "  </tbody>\n",
       "</table>\n",
       "</div>"
      ],
      "text/plain": [
       "                           origin  destination\n",
       "day                                           \n",
       "2019-01-27 00:00:00+00:00     543          550\n",
       "2019-01-24 00:00:00+00:00     658          658\n",
       "2019-01-21 00:00:00+00:00     412          308\n",
       "2019-01-14 00:00:00+00:00     227          316\n",
       "2019-01-14 00:00:00+00:00     566          566\n",
       "2019-01-05 00:00:00+00:00     442          438\n",
       "2019-01-25 00:00:00+00:00     302           60\n",
       "2019-01-08 00:00:00+00:00     472          479\n",
       "2019-01-11 00:00:00+00:00     227           48\n",
       "2019-01-25 00:00:00+00:00     450          522"
      ]
     },
     "execution_count": 22,
     "metadata": {},
     "output_type": "execute_result"
    }
   ],
   "source": [
    "''''\n",
    "dic = {}\n",
    "for i , k in enumerate(edges[:20]):\n",
    "  # print(i , k)\n",
    "  dic[i] = k\n",
    "# print(dic)\n",
    "'''\n",
    "\n",
    "# Map airports in dataframe to their graph number\n",
    "mapping_dict = {k:i for i,k in enumerate(edges)}\n",
    "#mapping_dict\n",
    "\n",
    "df_mapped = df.applymap(lambda x: mapping_dict[x])\n",
    "print(df_mapped.shape)\n",
    "df_mapped.head(10)\n"
   ]
  },
  {
   "cell_type": "code",
   "execution_count": 73,
   "metadata": {},
   "outputs": [
    {
     "name": "stdout",
     "output_type": "stream",
     "text": [
      "0 0 0 0 0 0 0 0 0 0 0 0 0 0 0 0 0 0 0 0 \n",
      "\n",
      "0 0 0 0 0 0 0 0 0 0 0 0 0 0 0 0 0 0 0 0 \n",
      "\n",
      "0 0 0 0 0 0 0 0 0 1 0 0 0 0 0 0 0 0 0 0 \n",
      "\n",
      "0 0 0 0 0 0 0 0 0 0 0 0 0 0 0 0 0 0 0 0 \n",
      "\n",
      "0 0 0 0 0 1 0 0 0 0 0 0 0 0 0 0 0 0 0 0 \n",
      "\n",
      "0 0 0 0 1 0 0 0 0 0 0 0 0 0 0 0 0 0 0 0 \n",
      "\n",
      "0 0 0 0 0 0 0 0 0 0 0 0 0 0 0 0 0 0 0 0 \n",
      "\n",
      "0 0 0 0 0 0 0 0 0 0 0 0 0 0 0 0 0 0 0 0 \n",
      "\n",
      "0 0 0 0 0 0 0 0 0 0 0 0 0 0 0 0 0 0 0 0 \n",
      "\n",
      "0 0 1 0 0 0 0 0 0 0 0 0 0 0 0 0 0 0 0 0 \n",
      "\n",
      "0 0 0 0 0 0 0 0 0 0 0 0 0 0 0 0 0 0 0 0 \n",
      "\n",
      "0 0 0 0 0 0 0 0 0 0 0 0 0 0 0 0 0 0 0 0 \n",
      "\n",
      "0 0 0 0 0 0 0 0 0 0 0 0 0 0 0 0 0 0 0 0 \n",
      "\n",
      "0 0 0 0 0 0 0 0 0 0 0 0 0 0 0 0 0 0 0 0 \n",
      "\n",
      "0 0 0 0 0 0 0 0 0 0 0 0 0 0 0 0 0 0 0 0 \n",
      "\n",
      "0 0 0 0 0 0 0 0 0 0 0 0 0 0 0 0 0 0 0 0 \n",
      "\n",
      "0 0 0 0 0 0 0 0 0 0 0 0 0 0 0 0 0 0 0 0 \n",
      "\n",
      "0 0 0 0 0 0 0 0 0 0 0 0 0 0 0 0 0 0 0 0 \n",
      "\n",
      "0 0 0 0 0 0 0 0 0 0 0 0 0 0 0 0 0 0 0 0 \n",
      "\n",
      "0 0 0 0 0 0 0 0 0 0 0 0 0 0 0 0 0 0 0 0 \n",
      "\n"
     ]
    }
   ],
   "source": [
    "for date  , flight in df_mapped.iterrows():\n",
    "  #print(date , flight[\"origin\"])\n",
    "  pass\n",
    "\n",
    "a = [[0 for i in range(len(edges))] for j in range(len(edges))]\n",
    "\n",
    "\n",
    "#print(len(a))\n",
    "\n",
    "for date  , flight in df_mapped.iterrows():\n",
    "  i = flight['origin']\n",
    "  j = flight['destination']\n",
    "  if(a[i][j] == 0):\n",
    "    a[i][j] = 1\n",
    "    a[j][i] = 1\n",
    "    \n",
    "for i in range(0 , 20):\n",
    "  for k in range(0 , 20):\n",
    "    print(a[i][k] , end = \" \")\n",
    "  print('\\n')\n",
    "  \n",
    "\n",
    "for date  , flight in df_mapped.iterrows():\n",
    "  #print(flight['origin'])\n",
    "  pass"
   ]
  },
  {
   "cell_type": "code",
   "execution_count": 120,
   "metadata": {},
   "outputs": [],
   "source": [
    "# Can You Fly from A to B  directly?\n",
    "def check(df , source  , dest):  \n",
    "  for date , row in df_mapped.iterrows():\n",
    "    #print({source }, {flight['origin']})\n",
    "    if({row[\"origin\"] , row[\"destination\"] == source , dest}):\n",
    "      return True\n",
    "    \n",
    "  return False\n",
    "      \n",
    "\n",
    " "
   ]
  },
  {
   "cell_type": "code",
   "execution_count": 121,
   "metadata": {},
   "outputs": [
    {
     "data": {
      "text/plain": [
       "True"
      ]
     },
     "execution_count": 121,
     "metadata": {},
     "output_type": "execute_result"
    }
   ],
   "source": [
    "check(df , \"KEWR\" , \"KDFW\")"
   ]
  },
  {
   "cell_type": "code",
   "execution_count": 122,
   "metadata": {},
   "outputs": [
    {
     "data": {
      "text/plain": [
       "True"
      ]
     },
     "execution_count": 122,
     "metadata": {},
     "output_type": "execute_result"
    }
   ],
   "source": [
    "\n",
    "node1, node2 = mapping_dict[\"KEWR\"], mapping_dict[\"KDFW\"]\n",
    "a[node1][node2] == 1\n"
   ]
  },
  {
   "cell_type": "code",
   "execution_count": null,
   "metadata": {},
   "outputs": [],
   "source": []
  },
  {
   "cell_type": "code",
   "execution_count": null,
   "metadata": {},
   "outputs": [],
   "source": []
  }
 ],
 "metadata": {
  "kernelspec": {
   "display_name": "Python 3",
   "language": "python",
   "name": "python3"
  },
  "language_info": {
   "codemirror_mode": {
    "name": "ipython",
    "version": 3
   },
   "file_extension": ".py",
   "mimetype": "text/x-python",
   "name": "python",
   "nbconvert_exporter": "python",
   "pygments_lexer": "ipython3",
   "version": "3.6.9"
  }
 },
 "nbformat": 4,
 "nbformat_minor": 4
}
